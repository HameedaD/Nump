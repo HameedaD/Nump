{
  "nbformat": 4,
  "nbformat_minor": 0,
  "metadata": {
    "colab": {
      "provenance": [],
      "authorship_tag": "ABX9TyN/uEm+H5ByXrU6uopiIbtC",
      "include_colab_link": true
    },
    "kernelspec": {
      "name": "python3",
      "display_name": "Python 3"
    },
    "language_info": {
      "name": "python"
    }
  },
  "cells": [
    {
      "cell_type": "markdown",
      "metadata": {
        "id": "view-in-github",
        "colab_type": "text"
      },
      "source": [
        "<a href=\"https://colab.research.google.com/github/HameedaD/Nump/blob/main/Hameeda0314.ipynb\" target=\"_parent\"><img src=\"https://colab.research.google.com/assets/colab-badge.svg\" alt=\"Open In Colab\"/></a>"
      ]
    },
    {
      "cell_type": "code",
      "execution_count": null,
      "metadata": {
        "id": "f2zQ5QUBTnQC"
      },
      "outputs": [],
      "source": []
    },
    {
      "cell_type": "code",
      "execution_count": null,
      "metadata": {
        "id": "aud3qXKq_eAB"
      },
      "outputs": [],
      "source": [
        "\n",
        "def main():\n",
        "  obj1 = open(\"WriteNumbers.txt\",\"w\") #Open File in Write mode\n",
        "  for x in range(1,21):   #Iterates from 1 to 20\n",
        "    x=str(x)              #Convert Number to String\n",
        "    obj1.write(x)         #Write Number to a output file\n",
        "    obj1.write(\"\\n\")      #Space to separate Numbers\n",
        "  obj1.close()            #Close File\n",
        "\n",
        "main()"
      ]
    }
  ]
}